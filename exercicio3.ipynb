{
  "nbformat": 4,
  "nbformat_minor": 0,
  "metadata": {
    "colab": {
      "provenance": [],
      "authorship_tag": "ABX9TyMT9Wr86Rh43mARWcO8Bc8s",
      "include_colab_link": true
    },
    "kernelspec": {
      "name": "python3",
      "display_name": "Python 3"
    },
    "language_info": {
      "name": "python"
    }
  },
  "cells": [
    {
      "cell_type": "markdown",
      "metadata": {
        "id": "view-in-github",
        "colab_type": "text"
      },
      "source": [
        "<a href=\"https://colab.research.google.com/github/leticiaalmeida07/Projetos_Base/blob/main/exercicio3.ipynb\" target=\"_parent\"><img src=\"https://colab.research.google.com/assets/colab-badge.svg\" alt=\"Open In Colab\"/></a>"
      ]
    },
    {
      "cell_type": "code",
      "execution_count": 9,
      "metadata": {
        "colab": {
          "base_uri": "https://localhost:8080/"
        },
        "id": "rTeM3MkbN2dQ",
        "outputId": "49b7d84e-c4d3-4852-bc8a-438356a44d95"
      },
      "outputs": [
        {
          "output_type": "stream",
          "name": "stdout",
          "text": [
            "       Aluno  Matemática  Português  Ciências\n",
            "0    Letícia           8          7         9\n",
            "1     Raiane           6          5         6\n",
            "2      Lucas           9          8         7\n",
            "3    Gabryel           7          6         8\n",
            "4       Davi           5          7         5\n",
            "5      Luana          10          9        10\n",
            "6    Matheus           4          5         6\n",
            "7     Ágatha           8          8         9\n",
            "8   Gabriela           6          6         7\n",
            "9   Kaylaine           9         10         8\n",
            "10   Eduardo           7          8         6\n",
            "       Aluno  Matemática  Português  Ciências  Média\n",
            "0    Letícia           8          7         9    8.0\n",
            "1     Raiane           6          5         6    5.7\n",
            "2      Lucas           9          8         7    8.0\n",
            "3    Gabryel           7          6         8    7.0\n",
            "4       Davi           5          7         5    5.7\n",
            "5      Luana          10          9        10    9.7\n",
            "6    Matheus           4          5         6    5.0\n",
            "7     Ágatha           8          8         9    8.3\n",
            "8   Gabriela           6          6         7    6.3\n",
            "9   Kaylaine           9         10         8    9.0\n",
            "10   Eduardo           7          8         6    7.0\n",
            "📋 Tabela de notas:\n",
            "       Aluno  Matemática  Português  Ciências  Média\n",
            "0    Letícia           8          7         9    8.0\n",
            "1     Raiane           6          5         6    5.7\n",
            "2      Lucas           9          8         7    8.0\n",
            "3    Gabryel           7          6         8    7.0\n",
            "4       Davi           5          7         5    5.7\n",
            "5      Luana          10          9        10    9.7\n",
            "6    Matheus           4          5         6    5.0\n",
            "7     Ágatha           8          8         9    8.3\n",
            "8   Gabriela           6          6         7    6.3\n",
            "9   Kaylaine           9         10         8    9.0\n",
            "10   Eduardo           7          8         6    7.0\n",
            "\n",
            " Aluno com a maior média:\n",
            "Aluno         Luana\n",
            "Matemática       10\n",
            "Português         9\n",
            "Ciências         10\n",
            "Média           9.7\n",
            "Name: 5, dtype: object\n"
          ]
        }
      ],
      "source": [
        "import pandas as pd\n",
        "import random\n",
        "\n",
        "\n",
        "\n",
        "# cria os dados\n",
        "dados = {\n",
        "    \"Aluno\": [\"Letícia\", \"Raiane\", \"Lucas\",\"Gabryel\",\"Davi\",\"Luana\",\"Matheus\",\"Ágatha\",\"Gabriela\",\"Kaylaine\",\"Eduardo\"],\n",
        "    \"Matemática\": [8, 6, 9, 7, 5, 10, 4, 8, 6, 9, 7],\n",
        "    \"Português\": [7, 5, 8, 6, 7, 9, 5, 8, 6, 10, 8],\n",
        "    \"Ciências\": [9, 6, 7, 8, 5, 10, 6, 9, 7, 8, 6]\n",
        "}\n",
        "\n",
        "\n",
        "# cria o DataFrame com as colunas\n",
        "df = pd.DataFrame(dados)\n",
        "\n",
        "# mostra o resultado\n",
        "print(df)\n",
        "\n",
        "\n",
        "# calcula a média de cada aluno\n",
        "df[\"Média\"] = df[[\"Matemática\", \"Português\", \"Ciências\"]].mean(axis=1).round(1)\n",
        "\n",
        "# mostra o resultado\n",
        "print(df)\n",
        "\n",
        "\n",
        "\n",
        "# calcula a média de cada aluno\n",
        "df[\"Média\"] = df[[\"Matemática\", \"Português\", \"Ciências\"]].mean(axis=1).round(1)\n",
        "\n",
        "# mostra a tabela completa\n",
        "print(\" Tabela de notas:\")\n",
        "print(df)\n",
        "\n",
        "# encontra o aluno com maior média\n",
        "melhor_aluno = df.loc[df[\"Média\"].idxmax()]\n",
        "\n",
        "print(\"\\n Aluno com a maior média:\")\n",
        "print(melhor_aluno)\n",
        "\n",
        "\n"
      ]
    }
  ]
}